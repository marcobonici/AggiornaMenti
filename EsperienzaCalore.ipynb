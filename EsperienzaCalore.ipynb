{
 "cells": [
  {
   "cell_type": "markdown",
   "metadata": {},
   "source": [
    "# Grafici delle esperienze sul calore\n",
    "In questo notebook è preparato, pronto all'uso, il codice per eseguire i plot delle esperienze sul calore e la termodinamica del corso di AggiornaMenti. Il codice è già funzionante, bisogna solo inserire i valori misurati.\n",
    "Nel blocco di codice sottostante, sono importati i pacchetti che useremo per fare le esperienze:\n",
    "- numpy, che si occupa dalla gestione degli arraT di numeri\n",
    "- scipy, libreria di calcolo scientifico con cui realizzeremo il fit\n",
    "- matplotlib, con cui realizzeremo i plot"
   ]
  },
  {
   "cell_type": "code",
   "execution_count": null,
   "metadata": {},
   "outputs": [],
   "source": [
    "import numpy as np\n",
    "from scipy.optimize import curve_fit\n",
    "import matplotlib.pyplot as plt"
   ]
  },
  {
   "cell_type": "markdown",
   "metadata": {},
   "source": [
    "Qui vengono impostati alcuni valori per i grafici di matplotlib:\n",
    "- figure.dpi, la risoluzione dell'immagine\n",
    "- figure.figsize, le dimensioni degli assi te T della figura\n",
    "- axes.labelsize, la dimensione delle legende sotto gli assi\n",
    "- xtick.labelsize e ytick.labelsize, le dimensioni dei numeri sugli assi te y\n",
    "- legend.fontsize, la dimensione dei caratteri nella legenda"
   ]
  },
  {
   "cell_type": "code",
   "execution_count": null,
   "metadata": {},
   "outputs": [],
   "source": [
    "plt.rcParams['figure.dpi'] = 200\n",
    "plt.rcParams['figure.figsize'] = (10, 6)\n",
    "plt.rcParams['axes.labelsize'] = 20 \n",
    "plt.rcParams['xtick.labelsize'] = 25 \n",
    "plt.rcParams['ytick.labelsize'] = 25 \n",
    "plt.rcParams['legend.fontsize'] = 25 "
   ]
  },
  {
   "cell_type": "markdown",
   "metadata": {},
   "source": [
    "Qui sono generati dei dati, con relativo rumore, a scopo dimostrativo."
   ]
  },
  {
   "cell_type": "code",
   "execution_count": null,
   "metadata": {},
   "outputs": [],
   "source": [
    "n_points = 40\n",
    "t = np.linspace(0,600, n_points)\n",
    "T = (80*np.exp(-t/100)+20)*(1-np.random.randn(n_points)*0.1)"
   ]
  },
  {
   "cell_type": "markdown",
   "metadata": {},
   "source": [
    "Una volta eseguite le misure, scommentate (cancellate il cancelletto all'inizio delle due righe) e inserite i numeri relativi ai tempi dentro l'arraT te quelli relativi alle temperature nell'arraT y. Nota bene: i due arraT devono avere lo stesso numero di elementi!"
   ]
  },
  {
   "cell_type": "code",
   "execution_count": null,
   "metadata": {},
   "outputs": [],
   "source": [
    "#t= np.array([])\n",
    "#T = np.array([])"
   ]
  },
  {
   "cell_type": "markdown",
   "metadata": {},
   "source": [
    "Qui viene realizzato il grafico dei punti"
   ]
  },
  {
   "cell_type": "code",
   "execution_count": null,
   "metadata": {},
   "outputs": [],
   "source": [
    "plt.scatter(t, T, label = r'Punti misurati')\n",
    "plt.xlabel(r'$t(s)$')\n",
    "plt.ylabel(r'$T(C)$') \n",
    "plt.legend()"
   ]
  },
  {
   "cell_type": "markdown",
   "metadata": {},
   "source": [
    "Definiamo adesso la funzione con cui andremo a fare il fit. Sappiamo che la temperatura dell'acqua si abbasserà, con un andamento esponenziale, dalla temperatura iniziale $T_0$ a quella dell'ambiente $T_a$ con un tempo caratteristico $\\tau$\n",
    "$$\n",
    "T(t)=T_0e^{-t/\\tau}+T_a\n",
    "$$"
   ]
  },
  {
   "cell_type": "code",
   "execution_count": null,
   "metadata": {},
   "outputs": [],
   "source": [
    "def exponential(t,T0,tau, Ta):\n",
    "    return T0*np.exp(-t/tau)+Ta"
   ]
  },
  {
   "cell_type": "markdown",
   "metadata": {},
   "source": [
    "La funzione curve_fit esegue il fit e restituisce due oggetti:\n",
    "- pars, che contiene i parametri del fit\n",
    "- cov, che contiene la covarianza sui parametri di fit (non useremo questo oggetto)\n",
    "A curve_fit bisogna dare come argomenti la funzione che abbiamo appena creato, i dati che abbiamo preso e dei valori iniziali per i parametri $T_0$, $T_a$ e $\\tau$. Per stimarli, inseriamo:\n",
    "- per $T_0$ usiamo la prima misurazione effettuata\n",
    "- per $T_a$ inseriamo la temperatura dell'ambiente (circa 20 gradi centigradi)\n",
    "- per $\\tau$ utilizziamo un terzo del tempo di presa dati\n",
    "\n",
    "Sottolineo che questi valori non sono quelli che verranno utilizzati per fare il grafico: verranno utilizzati da curve_fit come punto di partenza, per poi avvicinarsi autonomamente al punto finale"
   ]
  },
  {
   "cell_type": "code",
   "execution_count": null,
   "metadata": {},
   "outputs": [],
   "source": [
    "T0_iniziale = 80\n",
    "Ta_iniziale = 20\n",
    "tau_iniziale = 100\n",
    "pars, cov = curve_fit(f=exponential, xdata=t, ydata=T, p0=[T0_iniziale, tau_iniziale, Ta_iniziale])"
   ]
  },
  {
   "cell_type": "markdown",
   "metadata": {},
   "source": [
    "Qui vengono stampati su schermo i valori dei parametri ottenuti"
   ]
  },
  {
   "cell_type": "code",
   "execution_count": null,
   "metadata": {},
   "outputs": [],
   "source": [
    "print(pars)"
   ]
  },
  {
   "cell_type": "markdown",
   "metadata": {},
   "source": [
    "Qui vengono disegnati i punti misurati e la legge ricavata dal fit sovrapposta"
   ]
  },
  {
   "cell_type": "code",
   "execution_count": null,
   "metadata": {},
   "outputs": [],
   "source": [
    "t_plot = np.linspace(0,t[-1],1000)\n",
    "T_fit = exponential(t_plot, *pars)\n",
    "plt.plot(t_plot, T_fit, color = 'r', label = 'Andamento esponenziale')\n",
    "plt.scatter(t, T, label = \"Punti misurati\")\n",
    "plt.xlabel(r'$t(s)$')\n",
    "plt.ylabel(r'$T(C)$') \n",
    "plt.legend()\n",
    "plt.savefig('andamento_temperatura.pdf')"
   ]
  }
 ],
 "metadata": {
  "kernelspec": {
   "display_name": "CobayaVE",
   "language": "python",
   "name": "cobayave"
  },
  "language_info": {
   "codemirror_mode": {
    "name": "ipython",
    "version": 3
   },
   "file_extension": ".py",
   "mimetype": "text/x-python",
   "name": "python",
   "nbconvert_exporter": "python",
   "pygments_lexer": "ipython3",
   "version": "3.8.2"
  }
 },
 "nbformat": 4,
 "nbformat_minor": 4
}
