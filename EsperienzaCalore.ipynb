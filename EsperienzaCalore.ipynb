{
 "cells": [
  {
   "cell_type": "markdown",
   "metadata": {},
   "source": [
    "# Grafici delle esperienze sul calore\n",
    "\n",
    "In questo notebook è preparato, pronto all'uso, il codice per eseguire i plot delle esperienze sul calore e la termodinamica del corso di AggiornaMenti. Il codice è già funzionante, bisogna solo inserire i valori misurati. Oltre al codice, in questa pagina (un jupyter notebook basato sul linguaggio di programmazione python) troverete anche la spiegazione del funzionamento del codice.\n",
    "\n",
    "### Nota sull'esecuzione:\n",
    "\n",
    "Per eseguire i singoli blocchi di codice, dopo che sono stati selezionati, è sufficiente premere Shift+Invio. Per eseguire tutto il codice da cima a fondo, premere nella barra in alto Kernel e successivamente Restart & Run All."
   ]
  },
  {
   "cell_type": "markdown",
   "metadata": {},
   "source": [
    "Nel blocco di codice sottostante, sono importati alcuni pacchetti: si tratta di codice già scritto che ci permette di accedere a funzioni informatiche avanzate senza sforo. I pacchetti che useremo sono:\n",
    "- numpy, che si occupa dalla gestione degli array di numeri\n",
    "- scipy, libreria di calcolo scientifico con cui realizzeremo il fit\n",
    "- matplotlib, con cui realizzeremo i plot"
   ]
  },
  {
   "cell_type": "code",
   "execution_count": null,
   "metadata": {},
   "outputs": [],
   "source": [
    "import numpy as np\n",
    "from scipy.optimize import curve_fit\n",
    "import matplotlib.pyplot as plt"
   ]
  },
  {
   "cell_type": "markdown",
   "metadata": {},
   "source": [
    "Qui vengono impostati alcuni valori per i grafici di matplotlib:\n",
    "- figure.dpi, la risoluzione dell'immagine\n",
    "- figure.figsize, le dimensioni degli assi te T della figura\n",
    "- axes.labelsize, la dimensione delle legende sotto gli assi\n",
    "- xtick.labelsize e ytick.labelsize, le dimensioni dei numeri sugli assi te y\n",
    "- legend.fontsize, la dimensione dei caratteri nella legenda"
   ]
  },
  {
   "cell_type": "code",
   "execution_count": null,
   "metadata": {},
   "outputs": [],
   "source": [
    "plt.rcParams['figure.dpi'] = 200\n",
    "plt.rcParams['figure.figsize'] = (10, 6)\n",
    "plt.rcParams['axes.labelsize'] = 20 \n",
    "plt.rcParams['xtick.labelsize'] = 25 \n",
    "plt.rcParams['ytick.labelsize'] = 25 \n",
    "plt.rcParams['legend.fontsize'] = 25 "
   ]
  },
  {
   "cell_type": "markdown",
   "metadata": {},
   "source": [
    "Una volta eseguite le misure, inserite i numeri relativi ai tempi dentro l'arraT te quelli relativi alle temperature nell'array y. I numeri inseriti attualmente sono relativi a una presa dati effettuata con alcuni insegnanti  il 5/10/2020, cancellateli liberamente e inserite i vostri dati. Nota bene: i due array devono avere lo stesso numero di elementi!"
   ]
  },
  {
   "cell_type": "code",
   "execution_count": null,
   "metadata": {},
   "outputs": [],
   "source": [
    "t = np.array([0, 15, 30, 45, 60, 75, 90, 110, 140, 180, 250, 280, 340, 400, 500, 560, 630])\n",
    "T = np.array([80, 79, 78, 77, 76, 75, 74, 73, 71, 70, 69, 68, 65, 63, 62, 61, 60])"
   ]
  },
  {
   "cell_type": "markdown",
   "metadata": {},
   "source": [
    "Qui viene realizzato il grafico dei dati che avete misurato"
   ]
  },
  {
   "cell_type": "code",
   "execution_count": null,
   "metadata": {},
   "outputs": [],
   "source": [
    "plt.scatter(t, T, label = r'Punti misurati')\n",
    "plt.xlabel(r'$t(s)$')\n",
    "plt.ylabel(r'$T(C)$') \n",
    "plt.legend()"
   ]
  },
  {
   "cell_type": "markdown",
   "metadata": {},
   "source": [
    "Definiamo adesso la funzione con cui andremo a fare il fit. Sappiamo che la temperatura dell'acqua si abbasserà, con un andamento esponenziale, dalla temperatura iniziale $T_0$ a quella dell'ambiente $T_a$ con un tempo caratteristico $\\tau$\n",
    "$$\n",
    "T(t)=(T_0-T_a)e^{-t/\\tau}+T_a\n",
    "$$"
   ]
  },
  {
   "cell_type": "code",
   "execution_count": null,
   "metadata": {},
   "outputs": [],
   "source": [
    "def exponential(t, T0, Ta, tau):\n",
    "    return (T0-Ta)*np.exp(-t/tau)+Ta"
   ]
  },
  {
   "cell_type": "markdown",
   "metadata": {},
   "source": [
    "La funzione curve_fit esegue il fit e restituisce due oggetti:\n",
    "- pars, che contiene i parametri del fit\n",
    "- cov, che contiene la covarianza sui parametri di fit (non useremo questo oggetto)\n",
    "\n",
    "A curve_fit bisogna dare come argomenti la funzione che abbiamo appena creato, i dati che abbiamo preso e dei valori iniziali per i parametri $T_0$, $T_a$ e $\\tau$. Per stimarli, inseriamo:\n",
    "- per $T_0$ usiamo la prima misurazione effettuata\n",
    "- per $T_a$ inseriamo la temperatura dell'ambiente (circa 20 gradi centigradi)\n",
    "- per $\\tau$ , che ci dà la scala del tempo di raffreddamento; inseriamo un valore di 240 secondi\n",
    "\n",
    "Sottolineo che questi valori non sono quelli che verranno utilizzati per fare il grafico: verranno utilizzati da curve_fit come punto di partenza, per poi avvicinarsi autonomamente al punto finale"
   ]
  },
  {
   "cell_type": "code",
   "execution_count": null,
   "metadata": {},
   "outputs": [],
   "source": [
    "T0_iniziale = 80\n",
    "Ta_iniziale = 20\n",
    "tau_iniziale = 240\n",
    "pars, cov = curve_fit(f=exponential, xdata=t, ydata=T, p0=[T0_iniziale, Ta_iniziale, tau_iniziale])"
   ]
  },
  {
   "cell_type": "markdown",
   "metadata": {},
   "source": [
    "Qui vengono stampati su schermo i valori dei parametri ottenuti"
   ]
  },
  {
   "cell_type": "code",
   "execution_count": null,
   "metadata": {},
   "outputs": [],
   "source": [
    "print('Il valore finale stimato di T0 è di',  pars[0], 'gradi centigradi.')\n",
    "print('Il valore finale stimato di Ta è di',  pars[1], 'gradi centigradi.')\n",
    "print('Il valore finale stimato di tau è di', pars[2], 'secondi.')"
   ]
  },
  {
   "cell_type": "markdown",
   "metadata": {},
   "source": [
    "Qui vengono disegnati i punti misurati e la legge ricavata dal fit, immagine che viene salvata su un file pdf e che potete scaricare"
   ]
  },
  {
   "cell_type": "code",
   "execution_count": null,
   "metadata": {},
   "outputs": [],
   "source": [
    "t_plot = np.linspace(0,t[-1],1000)\n",
    "T_fit = exponential(t_plot, *pars)\n",
    "plt.plot(t_plot, T_fit, color = 'r', label = 'Andamento esponenziale')\n",
    "plt.scatter(t, T, label = \"Punti misurati\")\n",
    "plt.xlabel(r'$t(s)$')\n",
    "plt.ylabel(r'$T(C)$') \n",
    "plt.legend()\n",
    "plt.savefig('andamento_temperatura.pdf')"
   ]
  },
  {
   "cell_type": "markdown",
   "metadata": {},
   "source": [
    "Per scaricare il grafico prodotto, tornare sulla pagina precedente \"Home Page\" (dovrebbe essere aperta in un'altra finestra del browser), cliccare sul quadrato bianco a lato del nome del file prodotto e premere Download (dovrebbe comparire poco sopra)."
   ]
  }
 ],
 "metadata": {
  "kernelspec": {
   "display_name": "CobayaVE",
   "language": "python",
   "name": "cobayave"
  },
  "language_info": {
   "codemirror_mode": {
    "name": "ipython",
    "version": 3
   },
   "file_extension": ".py",
   "mimetype": "text/x-python",
   "name": "python",
   "nbconvert_exporter": "python",
   "pygments_lexer": "ipython3",
   "version": "3.8.5"
  }
 },
 "nbformat": 4,
 "nbformat_minor": 4
}
