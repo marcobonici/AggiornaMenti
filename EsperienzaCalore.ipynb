{
 "cells": [
  {
   "cell_type": "markdown",
   "metadata": {},
   "source": [
    "# Grafici delle esperienze sul calore\n",
    "In questo notebook è preparato, pronto all'uso, il codice per eseguire i plot delle esperienze sul calore e la termodinamica del corso di AggiornaMenti. Il codice è già funzionante, bisogna solo inserire i valori misurati.\n",
    "Nel blocco di codice sottostante, sono importati i pacchetti che useremo per fare le esperienze:\n",
    "- numpy, che si occupa dalla gestione degli array di numeri\n",
    "- scipy, libreria di calcolo scientifico con cui realizzeremo il fit\n",
    "- matplotlib, con cui realizzeremo i plot\n",
    "\n",
    "Sono impostati alcuni valori per matplotlib."
   ]
  },
  {
   "cell_type": "code",
   "execution_count": null,
   "metadata": {},
   "outputs": [],
   "source": [
    "import numpy as np\n",
    "from scipy.optimize import curve_fit\n",
    "import matplotlib.pyplot as plt\n",
    "\n",
    "plt.rcParams['figure.dpi'] = 200\n",
    "plt.rcParams['figure.figsize'] = (10, 6)\n",
    "plt.rcParams['axes.labelsize'] = 20 \n",
    "plt.rcParams['xtick.labelsize'] = 25 \n",
    "plt.rcParams['ytick.labelsize'] = 25 \n",
    "plt.rcParams['legend.fontsize'] = 25 "
   ]
  },
  {
   "cell_type": "markdown",
   "metadata": {},
   "source": [
    "Qui sono generati dei dati, con relativo rumore, a scopo dimostrativo."
   ]
  },
  {
   "cell_type": "code",
   "execution_count": null,
   "metadata": {},
   "outputs": [],
   "source": [
    "n_points = 10\n",
    "x = np.linspace(0,10, n_points)\n",
    "y = np.exp(-x)*(1-np.random.randn(n_points)*0.2)"
   ]
  },
  {
   "cell_type": "markdown",
   "metadata": {},
   "source": [
    "Una volta eseguite le misure, scommentate (cancellate il cancelletto all'inizio delle due righe) e inserite i numeri relativi ai tempi dentro l'array x e quelli relativi alle temperature nell'array y. Nota bene: i due array devono avere lo stesso numero di elementi!"
   ]
  },
  {
   "cell_type": "code",
   "execution_count": null,
   "metadata": {},
   "outputs": [],
   "source": [
    "#x = np.array([])\n",
    "#y = np.array([])"
   ]
  },
  {
   "cell_type": "markdown",
   "metadata": {},
   "source": [
    "Qui viene realizzato il grafico dei punti"
   ]
  },
  {
   "cell_type": "code",
   "execution_count": null,
   "metadata": {},
   "outputs": [],
   "source": [
    "plt.scatter(x,y, label = r'Punti misurati')\n",
    "plt.xlabel(r'$t(s)$')\n",
    "plt.ylabel(r'$T(C)$') \n",
    "plt.legend()"
   ]
  },
  {
   "cell_type": "markdown",
   "metadata": {},
   "source": [
    "Definiamo adesso la funzione con cui andremo a fare il fit. Sappiamo che la temperatura dell'acqua si abbasserà, con un andamento esponenziale, sino a quella dell'ambiente, per cui scegliamo una legge tipo\n",
    "$$\n",
    "f(x) = a \\cdot e^{b\\cdot x}+c\n",
    "$$\n",
    "dove $a$, $b$ e $c$ sono i parametri da determinare. Infine, la funzione curve_fit esegue il fit e restituisce due oggetti:\n",
    "- pars, che contiene i parametri del fit\n",
    "- cov, che contiene la covarianza sui parametri di fit (non useremo questo oggetto)"
   ]
  },
  {
   "cell_type": "code",
   "execution_count": null,
   "metadata": {},
   "outputs": [],
   "source": [
    "def exponential(x,a,b, c):\n",
    "    return a*np.exp(b*x)+c\n",
    "\n",
    "pars, cov = curve_fit(f=exponential, xdata=x, ydata=y, p0=[0,0, 0])"
   ]
  },
  {
   "cell_type": "markdown",
   "metadata": {},
   "source": [
    "Qui vengono stampati su schermo i valori dei parametri ottenuti"
   ]
  },
  {
   "cell_type": "code",
   "execution_count": null,
   "metadata": {},
   "outputs": [],
   "source": [
    "print(pars)"
   ]
  },
  {
   "cell_type": "markdown",
   "metadata": {},
   "source": [
    "Qui vengono disegnati i punti misurati e la legge ricavata dal fit sovrapposta"
   ]
  },
  {
   "cell_type": "code",
   "execution_count": null,
   "metadata": {},
   "outputs": [],
   "source": [
    "x_plot = np.linspace(0,x[-1],100)\n",
    "y_fit = exponential(x_plot, *pars)\n",
    "plt.plot(x_plot, y_fit, color = 'r', label = 'Andamento esponenziale')\n",
    "plt.scatter(x, y, label = \"Punti misurati\")\n",
    "plt.xlabel(r'$t(s)$')\n",
    "plt.ylabel(r'$T(C)$') \n",
    "plt.legend()\n",
    "plt.savefig('andamento_temperatura.pdf')"
   ]
  }
 ],
 "metadata": {
  "kernelspec": {
   "display_name": "CobayaVE",
   "language": "python",
   "name": "cobayave"
  },
  "language_info": {
   "codemirror_mode": {
    "name": "ipython",
    "version": 3
   },
   "file_extension": ".py",
   "mimetype": "text/x-python",
   "name": "python",
   "nbconvert_exporter": "python",
   "pygments_lexer": "ipython3",
   "version": "3.8.2"
  }
 },
 "nbformat": 4,
 "nbformat_minor": 4
}
